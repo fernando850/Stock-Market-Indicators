{
  "nbformat": 4,
  "nbformat_minor": 0,
  "metadata": {
    "colab": {
      "provenance": []
    },
    "kernelspec": {
      "name": "python3",
      "display_name": "Python 3"
    },
    "language_info": {
      "name": "python"
    }
  },
  "cells": [
    {
      "cell_type": "code",
      "execution_count": null,
      "metadata": {
        "id": "d-6wLaEr5g9c"
      },
      "outputs": [],
      "source": [
        "import numpy as np\n",
        "import pandas as pd\n",
        "from datetime import date\n",
        "import requests"
      ]
    },
    {
      "cell_type": "code",
      "source": [
        "url =\"https://finviz.com/screener.ashx?v=152&f=cap_smallover,exch_nasd&ft=4&o=-marketcap&c=0,1,2,3,4,5,79,6,7,8,9,10,11,12,13,73,74,75,14,15,16,77,17,18,19,20,21,23,22,82,78,24,25,26,27,28,29,30,31,84,32,33,34,35,36,37,38,39,40,41,42,43,44,45,46,47,48,49,50,51,52,53,54,55,56,57,58,59,68,70,80,83,76,60,61,62,63,64,67,69,81,65,66,71,72&r=1\"\n",
        "header = {\n",
        "\"User-Agent\": \"Mozilla/5.0 (Windows NT 10.0; Win64; x64) AppleWebKit/537.36 (KHTML, like Gecko) Chrome/84.0.4147.89 Safari/537.36\"  }\n",
        "r = requests.get(url, headers=header)\n",
        "stocks1=pd.read_html(r.text, decimal='.',thousands=',',header=0)[9]\n",
        "for i in range (1,89):\n",
        "  url =\"https://finviz.com/screener.ashx?v=152&f=cap_smallover,exch_nasd&ft=4&o=-marketcap&c=0,1,2,3,4,5,79,6,7,8,9,10,11,12,13,73,74,75,14,15,16,77,17,18,19,20,21,23,22,82,78,24,25,26,27,28,29,30,31,84,32,33,34,35,36,37,38,39,40,41,42,43,44,45,46,47,48,49,50,51,52,53,54,55,56,57,58,59,68,70,80,83,76,60,61,62,63,64,67,69,81,65,66,71,72&r=\"+str(20*i+1)\n",
        "  header = {\"User-Agent\": \"Mozilla/5.0 (Windows NT 10.0; Win64; x64) AppleWebKit/537.36 (KHTML, like Gecko) Chrome/84.0.4147.89 Safari/537.36\"}\n",
        "  r = requests.get(url, headers=header)\n",
        "  \n",
        "  stocks=pd.read_html(r.text, decimal='.',thousands=',',header=0)[9]\n",
        "  stock=pd.concat([stocks1,stocks],axis=0)\n",
        "  stocks1=stock\n",
        "\n"
      ],
      "metadata": {
        "id": "rksOd37O6pjt"
      },
      "execution_count": null,
      "outputs": []
    },
    {
      "cell_type": "code",
      "source": [
        "print(stock)"
      ],
      "metadata": {
        "colab": {
          "base_uri": "https://localhost:8080/"
        },
        "id": "nUNALPsYFqaU",
        "outputId": "cbd34997-67b4-444b-b243-cc3837b73066"
      },
      "execution_count": null,
      "outputs": [
        {
          "output_type": "stream",
          "name": "stdout",
          "text": [
            "     No. Ticker                             Company                  Sector  \\\n",
            "0      1   AAPL                          Apple Inc.              Technology   \n",
            "1      2   MSFT               Microsoft Corporation              Technology   \n",
            "2      3  GOOGL                       Alphabet Inc.  Communication Services   \n",
            "3      4   GOOG                       Alphabet Inc.  Communication Services   \n",
            "4      5   AMZN                    Amazon.com, Inc.       Consumer Cyclical   \n",
            "..   ...    ...                                 ...                     ...   \n",
            "3   1764   AFRI                 Forafric Global PLC      Consumer Defensive   \n",
            "4   1765   BPAC  Bullpen Parlay Acquisition Company               Financial   \n",
            "5   1766   ATAI             Atai Life Sciences N.V.              Healthcare   \n",
            "6   1767   CBNK               Capital Bancorp, Inc.               Financial   \n",
            "7   1768   SVFB              SVF Investment Corp. 2               Financial   \n",
            "\n",
            "                          Industry         Country               Index  \\\n",
            "0             Consumer Electronics             USA  DJIA, NDX, S&P 500   \n",
            "1        Software - Infrastructure             USA  DJIA, NDX, S&P 500   \n",
            "2   Internet Content & Information             USA        NDX, S&P 500   \n",
            "3   Internet Content & Information             USA        NDX, S&P 500   \n",
            "4                  Internet Retail             USA        NDX, S&P 500   \n",
            "..                             ...             ...                 ...   \n",
            "3                    Farm Products  United Kingdom                   -   \n",
            "4                  Shell Companies             USA                   -   \n",
            "5                    Biotechnology         Germany                   -   \n",
            "6                 Banks - Regional             USA                   -   \n",
            "7                  Shell Companies             USA                   -   \n",
            "\n",
            "   Market Cap      P/E Fwd P/E  ... Recom Avg Volume Rel Volume    Volume  \\\n",
            "0    2455.34B    26.39   23.58  ...   2.0     75.84M       0.86  65514009   \n",
            "1    2008.73B    29.94   25.09  ...   1.8     30.76M       0.92  28366019   \n",
            "2    1250.04B    21.60   15.88  ...   1.8     35.32M       1.42  50075943   \n",
            "3    1241.53B    21.43   16.05  ...   1.5     28.18M       1.31  36924602   \n",
            "4    1043.30B        -   40.37  ...   1.8     77.40M       0.62  47831116   \n",
            "..        ...      ...     ...  ...   ...        ...        ...       ...   \n",
            "3     300.56M        -       -  ...     -     17.98K       1.18     21252   \n",
            "4     300.44M    23.91       -  ...     -    252.69K       0.00         0   \n",
            "5     300.24M        -       -  ...  1.70      1.49M       0.44    654742   \n",
            "6     300.19M     7.28    7.98  ...  2.00     24.09K       0.48     11626   \n",
            "7     300.12M  2542.50       -  ...     -    102.07K       0.49     50001   \n",
            "\n",
            "   Target Price Prev Close   Price  Change AH Close AH Change  \n",
            "0        169.16     153.20  155.33   1.39%        -         -  \n",
            "1        284.73     272.17  269.32  -1.05%        -         -  \n",
            "2        125.44      94.68   96.94   2.39%        -         -  \n",
            "3         123.8      94.95   97.10   2.26%        -         -  \n",
            "4        136.26      99.70  101.16   1.46%        -         -  \n",
            "..          ...        ...     ...     ...      ...       ...  \n",
            "3             -      11.17   11.19   0.18%        -         -  \n",
            "4             -      10.45   10.45   0.00%        -         -  \n",
            "5         13.72       1.79    1.80   0.56%        -         -  \n",
            "6         26.25      21.26   21.20  -0.28%        -         -  \n",
            "7             -      10.18   10.17  -0.10%        -         -  \n",
            "\n",
            "[1768 rows x 85 columns]\n"
          ]
        }
      ]
    },
    {
      "cell_type": "code",
      "source": [
        "stock.to_csv(\"stock.csv\")\n",
        "from google.colab import files\n",
        "files.download(\"stock.csv\")"
      ],
      "metadata": {
        "colab": {
          "base_uri": "https://localhost:8080/",
          "height": 17
        },
        "id": "Gd-_Ww4MTMF2",
        "outputId": "3f51e95e-224c-42b7-bae9-67de436f71ef"
      },
      "execution_count": null,
      "outputs": [
        {
          "output_type": "display_data",
          "data": {
            "text/plain": [
              "<IPython.core.display.Javascript object>"
            ],
            "application/javascript": [
              "\n",
              "    async function download(id, filename, size) {\n",
              "      if (!google.colab.kernel.accessAllowed) {\n",
              "        return;\n",
              "      }\n",
              "      const div = document.createElement('div');\n",
              "      const label = document.createElement('label');\n",
              "      label.textContent = `Downloading \"${filename}\": `;\n",
              "      div.appendChild(label);\n",
              "      const progress = document.createElement('progress');\n",
              "      progress.max = size;\n",
              "      div.appendChild(progress);\n",
              "      document.body.appendChild(div);\n",
              "\n",
              "      const buffers = [];\n",
              "      let downloaded = 0;\n",
              "\n",
              "      const channel = await google.colab.kernel.comms.open(id);\n",
              "      // Send a message to notify the kernel that we're ready.\n",
              "      channel.send({})\n",
              "\n",
              "      for await (const message of channel.messages) {\n",
              "        // Send a message to notify the kernel that we're ready.\n",
              "        channel.send({})\n",
              "        if (message.buffers) {\n",
              "          for (const buffer of message.buffers) {\n",
              "            buffers.push(buffer);\n",
              "            downloaded += buffer.byteLength;\n",
              "            progress.value = downloaded;\n",
              "          }\n",
              "        }\n",
              "      }\n",
              "      const blob = new Blob(buffers, {type: 'application/binary'});\n",
              "      const a = document.createElement('a');\n",
              "      a.href = window.URL.createObjectURL(blob);\n",
              "      a.download = filename;\n",
              "      div.appendChild(a);\n",
              "      a.click();\n",
              "      div.remove();\n",
              "    }\n",
              "  "
            ]
          },
          "metadata": {}
        },
        {
          "output_type": "display_data",
          "data": {
            "text/plain": [
              "<IPython.core.display.Javascript object>"
            ],
            "application/javascript": [
              "download(\"download_fd9c21df-1691-443d-befa-28167a44f5a9\", \"stock.csv\", 923788)"
            ]
          },
          "metadata": {}
        }
      ]
    },
    {
      "cell_type": "code",
      "source": [
        "stock.info()"
      ],
      "metadata": {
        "id": "vRGeoZAzeNiX",
        "outputId": "d6f39ffc-fe41-4acf-b202-4c7619f3cbb9",
        "colab": {
          "base_uri": "https://localhost:8080/"
        }
      },
      "execution_count": null,
      "outputs": [
        {
          "output_type": "stream",
          "name": "stdout",
          "text": [
            "<class 'pandas.core.frame.DataFrame'>\n",
            "Int64Index: 1768 entries, 0 to 7\n",
            "Data columns (total 85 columns):\n",
            " #   Column          Non-Null Count  Dtype  \n",
            "---  ------          --------------  -----  \n",
            " 0   No.             1768 non-null   int64  \n",
            " 1   Ticker          1768 non-null   object \n",
            " 2   Company         1768 non-null   object \n",
            " 3   Sector          1768 non-null   object \n",
            " 4   Industry        1768 non-null   object \n",
            " 5   Country         1768 non-null   object \n",
            " 6   Index           1768 non-null   object \n",
            " 7   Market Cap      1768 non-null   object \n",
            " 8   P/E             1768 non-null   object \n",
            " 9   Fwd P/E         1768 non-null   object \n",
            " 10  PEG             1768 non-null   object \n",
            " 11  P/S             1768 non-null   object \n",
            " 12  P/B             1768 non-null   object \n",
            " 13  P/C             1768 non-null   object \n",
            " 14  P/FCF           1768 non-null   object \n",
            " 15  Book/sh         1768 non-null   object \n",
            " 16  Cash/sh         1768 non-null   object \n",
            " 17  Dividend        1768 non-null   object \n",
            " 18  Dividend.1      1768 non-null   object \n",
            " 19  Payout Ratio    1768 non-null   object \n",
            " 20  EPS             1768 non-null   object \n",
            " 21  EPS next Q      1768 non-null   object \n",
            " 22  EPS this Y      1768 non-null   object \n",
            " 23  EPS next Y      1768 non-null   object \n",
            " 24  EPS past 5Y     1768 non-null   object \n",
            " 25  EPS next 5Y     1768 non-null   object \n",
            " 26  Sales past 5Y   1768 non-null   object \n",
            " 27  Sales Q/Q       1768 non-null   object \n",
            " 28  EPS Q/Q         1768 non-null   object \n",
            " 29  Sales           1768 non-null   object \n",
            " 30  Income          1768 non-null   object \n",
            " 31  Outstanding     1768 non-null   object \n",
            " 32  Float           1768 non-null   object \n",
            " 33  Insider Own     1768 non-null   object \n",
            " 34  Insider Trans   1768 non-null   object \n",
            " 35  Inst Own        1768 non-null   object \n",
            " 36  Inst Trans      1768 non-null   object \n",
            " 37  Float Short     1768 non-null   object \n",
            " 38  Short Ratio     1768 non-null   object \n",
            " 39  Short Interest  1768 non-null   object \n",
            " 40  ROA             1768 non-null   object \n",
            " 41  ROE             1768 non-null   object \n",
            " 42  ROI             1768 non-null   object \n",
            " 43  Curr R          1768 non-null   object \n",
            " 44  Quick R         1768 non-null   object \n",
            " 45  LTDebt/Eq       1768 non-null   object \n",
            " 46  Debt/Eq         1768 non-null   object \n",
            " 47  Gross M         1768 non-null   object \n",
            " 48  Oper M          1768 non-null   object \n",
            " 49  Profit M        1768 non-null   object \n",
            " 50  Perf Week       1768 non-null   object \n",
            " 51  Perf Month      1768 non-null   object \n",
            " 52  Perf Quart      1768 non-null   object \n",
            " 53  Perf Half       1768 non-null   object \n",
            " 54  Perf Year       1768 non-null   object \n",
            " 55  Perf YTD        1768 non-null   object \n",
            " 56  Beta            1768 non-null   object \n",
            " 57  ATR             1768 non-null   float64\n",
            " 58  Volatility W    1768 non-null   object \n",
            " 59  Volatility M    1768 non-null   object \n",
            " 60  SMA20           1768 non-null   object \n",
            " 61  SMA50           1768 non-null   object \n",
            " 62  SMA200          1768 non-null   object \n",
            " 63  50D High        1768 non-null   object \n",
            " 64  50D Low         1768 non-null   object \n",
            " 65  52W High        1768 non-null   object \n",
            " 66  52W Low         1768 non-null   object \n",
            " 67  RSI             1768 non-null   object \n",
            " 68  Earnings        1768 non-null   object \n",
            " 69  IPO Date        1768 non-null   object \n",
            " 70  Optionable      1768 non-null   object \n",
            " 71  Shortable       1768 non-null   object \n",
            " 72  Employees       1768 non-null   object \n",
            " 73  from Open       1768 non-null   object \n",
            " 74  Gap             1768 non-null   object \n",
            " 75  Recom           1768 non-null   object \n",
            " 76  Avg Volume      1768 non-null   object \n",
            " 77  Rel Volume      1768 non-null   float64\n",
            " 78  Volume          1768 non-null   int64  \n",
            " 79  Target Price    1768 non-null   object \n",
            " 80  Prev Close      1768 non-null   float64\n",
            " 81  Price           1768 non-null   float64\n",
            " 82  Change          1768 non-null   object \n",
            " 83  AH Close        1768 non-null   object \n",
            " 84  AH Change       1768 non-null   object \n",
            "dtypes: float64(4), int64(2), object(79)\n",
            "memory usage: 1.2+ MB\n"
          ]
        }
      ]
    }
  ]
}